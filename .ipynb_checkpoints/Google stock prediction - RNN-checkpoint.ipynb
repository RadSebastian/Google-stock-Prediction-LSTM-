{
 "cells": [
  {
   "cell_type": "code",
   "execution_count": 1,
   "metadata": {},
   "outputs": [],
   "source": [
    "import numpy as np\n",
    "import pandas as pd\n",
    "import matplotlib.pyplot as plt"
   ]
  },
  {
   "cell_type": "code",
   "execution_count": 2,
   "metadata": {},
   "outputs": [
    {
     "data": {
      "text/html": [
       "<div>\n",
       "<style scoped>\n",
       "    .dataframe tbody tr th:only-of-type {\n",
       "        vertical-align: middle;\n",
       "    }\n",
       "\n",
       "    .dataframe tbody tr th {\n",
       "        vertical-align: top;\n",
       "    }\n",
       "\n",
       "    .dataframe thead th {\n",
       "        text-align: right;\n",
       "    }\n",
       "</style>\n",
       "<table border=\"1\" class=\"dataframe\">\n",
       "  <thead>\n",
       "    <tr style=\"text-align: right;\">\n",
       "      <th></th>\n",
       "      <th>Date</th>\n",
       "      <th>Open</th>\n",
       "      <th>High</th>\n",
       "      <th>Low</th>\n",
       "      <th>Close</th>\n",
       "      <th>Adj Close</th>\n",
       "      <th>Volume</th>\n",
       "    </tr>\n",
       "  </thead>\n",
       "  <tbody>\n",
       "    <tr>\n",
       "      <th>0</th>\n",
       "      <td>2013-01-02</td>\n",
       "      <td>357.385559</td>\n",
       "      <td>361.151062</td>\n",
       "      <td>355.959839</td>\n",
       "      <td>359.288177</td>\n",
       "      <td>359.288177</td>\n",
       "      <td>5115500</td>\n",
       "    </tr>\n",
       "    <tr>\n",
       "      <th>1</th>\n",
       "      <td>2013-01-03</td>\n",
       "      <td>360.122742</td>\n",
       "      <td>363.600128</td>\n",
       "      <td>358.031342</td>\n",
       "      <td>359.496826</td>\n",
       "      <td>359.496826</td>\n",
       "      <td>4666500</td>\n",
       "    </tr>\n",
       "    <tr>\n",
       "      <th>2</th>\n",
       "      <td>2013-01-04</td>\n",
       "      <td>362.313507</td>\n",
       "      <td>368.339294</td>\n",
       "      <td>361.488861</td>\n",
       "      <td>366.600616</td>\n",
       "      <td>366.600616</td>\n",
       "      <td>5562800</td>\n",
       "    </tr>\n",
       "    <tr>\n",
       "      <th>3</th>\n",
       "      <td>2013-01-07</td>\n",
       "      <td>365.348755</td>\n",
       "      <td>367.301056</td>\n",
       "      <td>362.929504</td>\n",
       "      <td>365.001007</td>\n",
       "      <td>365.001007</td>\n",
       "      <td>3332900</td>\n",
       "    </tr>\n",
       "    <tr>\n",
       "      <th>4</th>\n",
       "      <td>2013-01-08</td>\n",
       "      <td>365.393463</td>\n",
       "      <td>365.771027</td>\n",
       "      <td>359.874359</td>\n",
       "      <td>364.280701</td>\n",
       "      <td>364.280701</td>\n",
       "      <td>3373900</td>\n",
       "    </tr>\n",
       "  </tbody>\n",
       "</table>\n",
       "</div>"
      ],
      "text/plain": [
       "         Date        Open        High         Low       Close   Adj Close  \\\n",
       "0  2013-01-02  357.385559  361.151062  355.959839  359.288177  359.288177   \n",
       "1  2013-01-03  360.122742  363.600128  358.031342  359.496826  359.496826   \n",
       "2  2013-01-04  362.313507  368.339294  361.488861  366.600616  366.600616   \n",
       "3  2013-01-07  365.348755  367.301056  362.929504  365.001007  365.001007   \n",
       "4  2013-01-08  365.393463  365.771027  359.874359  364.280701  364.280701   \n",
       "\n",
       "    Volume  \n",
       "0  5115500  \n",
       "1  4666500  \n",
       "2  5562800  \n",
       "3  3332900  \n",
       "4  3373900  "
      ]
     },
     "execution_count": 2,
     "metadata": {},
     "output_type": "execute_result"
    }
   ],
   "source": [
    "dataset_train = pd.read_csv(\"input/trainset.csv\")\n",
    "dataset_train.head()"
   ]
  },
  {
   "cell_type": "code",
   "execution_count": 3,
   "metadata": {},
   "outputs": [
    {
     "data": {
      "text/plain": [
       "array([[ 357.385559],\n",
       "       [ 360.122742],\n",
       "       [ 362.313507],\n",
       "       ...,\n",
       "       [1057.390015],\n",
       "       [1051.599976],\n",
       "       [1046.719971]])"
      ]
     },
     "execution_count": 3,
     "metadata": {},
     "output_type": "execute_result"
    },
    {
     "data": {
      "image/png": "[encoded data removed]",
      "text/plain": [
       "<Figure size 432x288 with 1 Axes>"
      ]
     },
     "metadata": {},
     "output_type": "display_data"
    }
   ],
   "source": [
    "trainset = dataset_train.iloc[:, 1:2].values #Selecting Open column\n",
    "dataset_train.plot(x=\"Date\", y=\"Open\")\n",
    "trainset"
   ]
  },
  {
   "cell_type": "code",
   "execution_count": 4,
   "metadata": {},
   "outputs": [
    {
     "data": {
      "text/plain": [
       "array([[0.01011148],\n",
       "       [0.01388614],\n",
       "       [0.01690727],\n",
       "       ...,\n",
       "       [0.97543954],\n",
       "       [0.9674549 ],\n",
       "       [0.96072522]])"
      ]
     },
     "execution_count": 4,
     "metadata": {},
     "output_type": "execute_result"
    }
   ],
   "source": [
    "from sklearn.preprocessing import MinMaxScaler\n",
    "sc = MinMaxScaler(feature_range=(0, 1))\n",
    "training_scaled = sc.fit_transform(trainset)\n",
    "training_scaled"
   ]
  },
  {
   "cell_type": "code",
   "execution_count": 5,
   "metadata": {},
   "outputs": [
    {
     "data": {
      "text/plain": [
       "(1259, 1)"
      ]
     },
     "execution_count": 5,
     "metadata": {},
     "output_type": "execute_result"
    }
   ],
   "source": [
    "training_scaled.shape"
   ]
  },
  {
   "cell_type": "code",
   "execution_count": 6,
   "metadata": {},
   "outputs": [],
   "source": [
    "x_train_ = []\n",
    "y_train_ = []\n",
    "\n",
    "for i in range(60,1259):\n",
    "    x_train_.append(training_scaled[i-60:i, 0])\n",
    "    y_train_.append(training_scaled[i,0])\n",
    "x_train,y_train = np.array(x_train_),np.array(y_train_)"
   ]
  },
  {
   "cell_type": "code",
   "execution_count": 7,
   "metadata": {},
   "outputs": [
    {
     "data": {
      "text/plain": [
       "(1199, 60, 1)"
      ]
     },
     "execution_count": 7,
     "metadata": {},
     "output_type": "execute_result"
    }
   ],
   "source": [
    "x_train = np.reshape(x_train, (x_train.shape[0],x_train.shape[1],1))\n",
    "x_train.shape"
   ]
  },
  {
   "cell_type": "code",
   "execution_count": 8,
   "metadata": {},
   "outputs": [
    {
     "name": "stderr",
     "output_type": "stream",
     "text": [
      "/usr/local/Cellar/python3/3.6.1/Frameworks/Python.framework/Versions/3.6/lib/python3.6/site-packages/h5py/__init__.py:36: FutureWarning: Conversion of the second argument of issubdtype from `float` to `np.floating` is deprecated. In future, it will be treated as `np.float64 == np.dtype(float).type`.\n",
      "  from ._conv import register_converters as _register_converters\n",
      "Using TensorFlow backend.\n"
     ]
    }
   ],
   "source": [
    "from keras.models import Sequential\n",
    "from keras.layers import Dense\n",
    "from keras.layers import LSTM\n",
    "from keras.layers import Dropout"
   ]
  },
  {
   "cell_type": "code",
   "execution_count": 9,
   "metadata": {},
   "outputs": [],
   "source": [
    "regressor = Sequential()\n",
    "regressor.add(LSTM(units=50, return_sequences=True, input_shape=(x_train.shape[1],1)))\n"
   ]
  },
  {
   "cell_type": "code",
   "execution_count": 10,
   "metadata": {},
   "outputs": [],
   "source": [
    "regressor.add(Dropout(0.2))"
   ]
  },
  {
   "cell_type": "code",
   "execution_count": 11,
   "metadata": {},
   "outputs": [],
   "source": [
    "regressor.add(LSTM(units = 50,return_sequences = True))\n",
    "regressor.add(Dropout(0.2))"
   ]
  },
  {
   "cell_type": "code",
   "execution_count": 12,
   "metadata": {},
   "outputs": [],
   "source": [
    "regressor.add(LSTM(units = 50,return_sequences = True))\n",
    "regressor.add(Dropout(0.2))"
   ]
  },
  {
   "cell_type": "code",
   "execution_count": 13,
   "metadata": {},
   "outputs": [],
   "source": [
    "regressor.add(LSTM(units = 50))\n",
    "regressor.add(Dropout(0.2))"
   ]
  },
  {
   "cell_type": "code",
   "execution_count": 14,
   "metadata": {},
   "outputs": [],
   "source": [
    "regressor.add(Dense(units = 1))"
   ]
  },
  {
   "cell_type": "code",
   "execution_count": 15,
   "metadata": {},
   "outputs": [],
   "source": [
    "regressor.compile(optimizer = 'adam',loss = 'mean_squared_error')"
   ]
  },
  {
   "cell_type": "code",
   "execution_count": 16,
   "metadata": {
    "scrolled": true
   },
   "outputs": [
    {
     "name": "stdout",
     "output_type": "stream",
     "text": [
      "Epoch 1/100\n",
      "1199/1199 [==============================] - 9s 8ms/step - loss: 0.0280\n",
      "Epoch 2/100\n",
      "1199/1199 [==============================] - 7s 6ms/step - loss: 0.0042\n",
      "Epoch 3/100\n",
      "1199/1199 [==============================] - 7s 6ms/step - loss: 0.0042\n",
      "Epoch 4/100\n",
      "1199/1199 [==============================] - 7s 6ms/step - loss: 0.0040\n",
      "Epoch 5/100\n",
      "1199/1199 [==============================] - 7s 6ms/step - loss: 0.0034\n",
      "Epoch 6/100\n",
      "1199/1199 [==============================] - 7s 6ms/step - loss: 0.0031\n",
      "Epoch 7/100\n",
      "1199/1199 [==============================] - 7s 6ms/step - loss: 0.0031\n",
      "Epoch 8/100\n",
      "1199/1199 [==============================] - 7s 6ms/step - loss: 0.0033\n",
      "Epoch 9/100\n",
      "1199/1199 [==============================] - 7s 6ms/step - loss: 0.0032\n",
      "Epoch 10/100\n",
      "1199/1199 [==============================] - 7s 6ms/step - loss: 0.0030\n",
      "Epoch 11/100\n",
      "1199/1199 [==============================] - 7s 6ms/step - loss: 0.0029\n",
      "Epoch 12/100\n",
      "1199/1199 [==============================] - 7s 6ms/step - loss: 0.0033\n",
      "Epoch 13/100\n",
      "1199/1199 [==============================] - 7s 6ms/step - loss: 0.0032\n",
      "Epoch 14/100\n",
      "1199/1199 [==============================] - 7s 6ms/step - loss: 0.0025\n",
      "Epoch 15/100\n",
      "1199/1199 [==============================] - 7s 6ms/step - loss: 0.0026\n",
      "Epoch 16/100\n",
      "1199/1199 [==============================] - 7s 6ms/step - loss: 0.0030\n",
      "Epoch 17/100\n",
      "1199/1199 [==============================] - 7s 6ms/step - loss: 0.0026\n",
      "Epoch 18/100\n",
      "1199/1199 [==============================] - 7s 6ms/step - loss: 0.0025\n",
      "Epoch 19/100\n",
      "1199/1199 [==============================] - 7s 6ms/step - loss: 0.0025\n",
      "Epoch 20/100\n",
      "1199/1199 [==============================] - 7s 6ms/step - loss: 0.0026\n",
      "Epoch 21/100\n",
      "1199/1199 [==============================] - 7s 6ms/step - loss: 0.0025\n",
      "Epoch 22/100\n",
      "1199/1199 [==============================] - 7s 6ms/step - loss: 0.0027\n",
      "Epoch 23/100\n",
      "1199/1199 [==============================] - 7s 6ms/step - loss: 0.0025\n",
      "Epoch 24/100\n",
      "1199/1199 [==============================] - 7s 6ms/step - loss: 0.0021\n",
      "Epoch 25/100\n",
      "1199/1199 [==============================] - 7s 6ms/step - loss: 0.0026\n",
      "Epoch 26/100\n",
      "1199/1199 [==============================] - 7s 6ms/step - loss: 0.0024\n",
      "Epoch 27/100\n",
      "1199/1199 [==============================] - 7s 6ms/step - loss: 0.0022\n",
      "Epoch 28/100\n",
      "1199/1199 [==============================] - 7s 6ms/step - loss: 0.0023\n",
      "Epoch 29/100\n",
      "1199/1199 [==============================] - 7s 6ms/step - loss: 0.0021\n",
      "Epoch 30/100\n",
      "1199/1199 [==============================] - 7s 6ms/step - loss: 0.0024\n",
      "Epoch 31/100\n",
      "1199/1199 [==============================] - 7s 6ms/step - loss: 0.0023\n",
      "Epoch 32/100\n",
      "1199/1199 [==============================] - 7s 6ms/step - loss: 0.0020\n",
      "Epoch 33/100\n",
      "1199/1199 [==============================] - 7s 6ms/step - loss: 0.0019\n",
      "Epoch 34/100\n",
      "1199/1199 [==============================] - 7s 6ms/step - loss: 0.0018\n",
      "Epoch 35/100\n",
      "1199/1199 [==============================] - 7s 6ms/step - loss: 0.0019\n",
      "Epoch 36/100\n",
      "1199/1199 [==============================] - 7s 6ms/step - loss: 0.0019\n",
      "Epoch 37/100\n",
      "1199/1199 [==============================] - 7s 6ms/step - loss: 0.0020\n",
      "Epoch 38/100\n",
      "1199/1199 [==============================] - 7s 6ms/step - loss: 0.0020\n",
      "Epoch 39/100\n",
      "1199/1199 [==============================] - 7s 6ms/step - loss: 0.0019\n",
      "Epoch 40/100\n",
      "1199/1199 [==============================] - 7s 6ms/step - loss: 0.0018\n",
      "Epoch 41/100\n",
      "1199/1199 [==============================] - 7s 6ms/step - loss: 0.0018\n",
      "Epoch 42/100\n",
      "1199/1199 [==============================] - 7s 6ms/step - loss: 0.0017\n",
      "Epoch 43/100\n",
      "1199/1199 [==============================] - 7s 6ms/step - loss: 0.0018\n",
      "Epoch 44/100\n",
      "1199/1199 [==============================] - 7s 6ms/step - loss: 0.0017\n",
      "Epoch 45/100\n",
      "1199/1199 [==============================] - 7s 6ms/step - loss: 0.0016\n",
      "Epoch 46/100\n",
      "1199/1199 [==============================] - 7s 6ms/step - loss: 0.0019\n",
      "Epoch 47/100\n",
      "1199/1199 [==============================] - 7s 6ms/step - loss: 0.0017\n",
      "Epoch 48/100\n",
      "1199/1199 [==============================] - 7s 6ms/step - loss: 0.0019\n",
      "Epoch 49/100\n",
      "1199/1199 [==============================] - 7s 6ms/step - loss: 0.0019\n",
      "Epoch 50/100\n",
      "1199/1199 [==============================] - 7s 6ms/step - loss: 0.0015\n",
      "Epoch 51/100\n",
      "1199/1199 [==============================] - 7s 6ms/step - loss: 0.0017\n",
      "Epoch 52/100\n",
      "1199/1199 [==============================] - 7s 6ms/step - loss: 0.0017\n",
      "Epoch 53/100\n",
      "1199/1199 [==============================] - 7s 6ms/step - loss: 0.0015\n",
      "Epoch 54/100\n",
      "1199/1199 [==============================] - 7s 6ms/step - loss: 0.0017\n",
      "Epoch 55/100\n",
      "1199/1199 [==============================] - 7s 6ms/step - loss: 0.0015\n",
      "Epoch 56/100\n",
      "1199/1199 [==============================] - 7s 6ms/step - loss: 0.0017\n",
      "Epoch 57/100\n",
      "1199/1199 [==============================] - 7s 6ms/step - loss: 0.0016\n",
      "Epoch 58/100\n",
      "1199/1199 [==============================] - 7s 6ms/step - loss: 0.0016\n",
      "Epoch 59/100\n",
      "1199/1199 [==============================] - 7s 6ms/step - loss: 0.0015\n",
      "Epoch 60/100\n",
      "1199/1199 [==============================] - 7s 6ms/step - loss: 0.0015\n",
      "Epoch 61/100\n",
      "1199/1199 [==============================] - 7s 6ms/step - loss: 0.0015\n",
      "Epoch 62/100\n",
      "1199/1199 [==============================] - 7s 6ms/step - loss: 0.0014\n",
      "Epoch 63/100\n",
      "1199/1199 [==============================] - 8s 7ms/step - loss: 0.0014\n",
      "Epoch 64/100\n",
      "1199/1199 [==============================] - 7s 6ms/step - loss: 0.0014\n",
      "Epoch 65/100\n",
      "1199/1199 [==============================] - 7s 6ms/step - loss: 0.0016\n",
      "Epoch 66/100\n",
      "1199/1199 [==============================] - 7s 6ms/step - loss: 0.0013\n",
      "Epoch 67/100\n",
      "1199/1199 [==============================] - 7s 6ms/step - loss: 0.0012\n",
      "Epoch 68/100\n",
      "1199/1199 [==============================] - 7s 6ms/step - loss: 0.0014\n",
      "Epoch 69/100\n",
      "1199/1199 [==============================] - 7s 6ms/step - loss: 0.0013\n",
      "Epoch 70/100\n",
      "1199/1199 [==============================] - 7s 6ms/step - loss: 0.0013\n",
      "Epoch 71/100\n",
      "1199/1199 [==============================] - 7s 6ms/step - loss: 0.0013\n",
      "Epoch 72/100\n",
      "1199/1199 [==============================] - 7s 6ms/step - loss: 0.0013\n",
      "Epoch 73/100\n",
      "1199/1199 [==============================] - 7s 6ms/step - loss: 0.0013\n",
      "Epoch 74/100\n",
      "1199/1199 [==============================] - 7s 6ms/step - loss: 0.0013\n",
      "Epoch 75/100\n",
      "1199/1199 [==============================] - 7s 6ms/step - loss: 0.0011\n",
      "Epoch 76/100\n",
      "1199/1199 [==============================] - 7s 6ms/step - loss: 0.0014\n",
      "Epoch 77/100\n",
      "1199/1199 [==============================] - 7s 6ms/step - loss: 0.0012\n",
      "Epoch 78/100\n",
      "1199/1199 [==============================] - 7s 6ms/step - loss: 0.0013\n",
      "Epoch 79/100\n",
      "1199/1199 [==============================] - 7s 6ms/step - loss: 0.0011\n",
      "Epoch 80/100\n",
      "1199/1199 [==============================] - 7s 6ms/step - loss: 0.0013\n",
      "Epoch 81/100\n",
      "1199/1199 [==============================] - 7s 6ms/step - loss: 0.0013\n",
      "Epoch 82/100\n",
      "1199/1199 [==============================] - 7s 6ms/step - loss: 0.0011\n",
      "Epoch 83/100\n",
      "1199/1199 [==============================] - 7s 6ms/step - loss: 0.0011\n",
      "Epoch 84/100\n",
      "1199/1199 [==============================] - 7s 6ms/step - loss: 0.0012\n",
      "Epoch 85/100\n",
      "1199/1199 [==============================] - 7s 6ms/step - loss: 0.0012\n",
      "Epoch 86/100\n",
      "1199/1199 [==============================] - 7s 6ms/step - loss: 0.0011\n",
      "Epoch 87/100\n",
      "1199/1199 [==============================] - 7s 6ms/step - loss: 0.0012\n",
      "Epoch 88/100\n",
      "1199/1199 [==============================] - 7s 6ms/step - loss: 0.0011\n",
      "Epoch 89/100\n",
      "1199/1199 [==============================] - 7s 6ms/step - loss: 0.0010\n",
      "Epoch 90/100\n",
      "1199/1199 [==============================] - 7s 6ms/step - loss: 0.0010\n",
      "Epoch 91/100\n",
      "1199/1199 [==============================] - 7s 6ms/step - loss: 0.0012\n",
      "Epoch 92/100\n",
      "1199/1199 [==============================] - 7s 6ms/step - loss: 9.2679e-04\n",
      "Epoch 93/100\n",
      "1199/1199 [==============================] - 7s 6ms/step - loss: 9.8591e-04\n",
      "Epoch 94/100\n",
      "1199/1199 [==============================] - 7s 6ms/step - loss: 0.0010\n",
      "Epoch 95/100\n",
      "1199/1199 [==============================] - 7s 6ms/step - loss: 0.0011\n",
      "Epoch 96/100\n",
      "1199/1199 [==============================] - 7s 6ms/step - loss: 9.7647e-04\n",
      "Epoch 97/100\n"
     ]
    },
    {
     "name": "stdout",
     "output_type": "stream",
     "text": [
      "1199/1199 [==============================] - 7s 6ms/step - loss: 0.0011\n",
      "Epoch 98/100\n",
      "1199/1199 [==============================] - 8s 7ms/step - loss: 9.9685e-04\n",
      "Epoch 99/100\n",
      "1199/1199 [==============================] - 7s 6ms/step - loss: 0.0012\n",
      "Epoch 100/100\n",
      "1199/1199 [==============================] - 7s 6ms/step - loss: 9.6585e-04\n"
     ]
    },
    {
     "data": {
      "text/plain": [
       "<keras.callbacks.History at 0x119b64940>"
      ]
     },
     "execution_count": 16,
     "metadata": {},
     "output_type": "execute_result"
    }
   ],
   "source": [
    "regressor.fit(x_train,y_train,epochs = 100, batch_size = 32)"
   ]
  },
  {
   "cell_type": "code",
   "execution_count": 17,
   "metadata": {},
   "outputs": [],
   "source": [
    "dataset_test = pd.read_csv(\"input/testset.csv\")"
   ]
  },
  {
   "cell_type": "code",
   "execution_count": 18,
   "metadata": {},
   "outputs": [],
   "source": [
    "real_stock_price = dataset_test.iloc[:, 1:2].values"
   ]
  },
  {
   "cell_type": "code",
   "execution_count": 19,
   "metadata": {},
   "outputs": [],
   "source": [
    "dataset_total = pd.concat((dataset_train[\"Open\"], dataset_test[\"Open\"]), axis=0)"
   ]
  },
  {
   "cell_type": "code",
   "execution_count": 20,
   "metadata": {},
   "outputs": [
    {
     "data": {
      "text/plain": [
       "185"
      ]
     },
     "execution_count": 20,
     "metadata": {},
     "output_type": "execute_result"
    }
   ],
   "source": [
    "inputs = dataset_total[len(dataset_total) - len(dataset_test)-60:].values"
   ]
  },
  {
   "cell_type": "code",
   "execution_count": 21,
   "metadata": {},
   "outputs": [
    {
     "data": {
      "text/plain": [
       "array([[ 955.48999 ],\n",
       "       [ 966.700012],\n",
       "       [ 980.      ],\n",
       "       [ 980.      ],\n",
       "       [ 973.719971],\n",
       "       [ 987.450012],\n",
       "       [ 992.      ],\n",
       "       [ 992.099976],\n",
       "       [ 990.289978],\n",
       "       [ 991.77002 ],\n",
       "       [ 986.      ],\n",
       "       [ 989.440002],\n",
       "       [ 989.52002 ],\n",
       "       [ 970.      ],\n",
       "       [ 968.369995],\n",
       "       [ 980.      ],\n",
       "       [1009.190002],\n",
       "       [1014.      ],\n",
       "       [1015.219971],\n",
       "       [1017.210022],\n",
       "       [1021.76001 ],\n",
       "       [1022.109985],\n",
       "       [1028.98999 ],\n",
       "       [1027.27002 ],\n",
       "       [1030.52002 ],\n",
       "       [1033.98999 ],\n",
       "       [1026.459961],\n",
       "       [1023.419983],\n",
       "       [1022.590027],\n",
       "       [1019.210022],\n",
       "       [1022.52002 ],\n",
       "       [1034.01001 ],\n",
       "       [1020.26001 ],\n",
       "       [1023.309998],\n",
       "       [1035.      ],\n",
       "       [1035.869995],\n",
       "       [1040.      ],\n",
       "       [1055.089966],\n",
       "       [1042.680054],\n",
       "       [1022.369995],\n",
       "       [1015.799988],\n",
       "       [1012.659973],\n",
       "       [ 995.940002],\n",
       "       [1001.5     ],\n",
       "       [1020.429993],\n",
       "       [1037.48999 ],\n",
       "       [1035.5     ],\n",
       "       [1039.630005],\n",
       "       [1046.119995],\n",
       "       [1045.      ],\n",
       "       [1054.609985],\n",
       "       [1066.079956],\n",
       "       [1075.199951],\n",
       "       [1071.780029],\n",
       "       [1064.949951],\n",
       "       [1061.109985],\n",
       "       [1058.069946],\n",
       "       [1057.390015],\n",
       "       [1051.599976],\n",
       "       [1046.719971],\n",
       "       [1048.339966],\n",
       "       [1064.310059],\n",
       "       [1088.      ],\n",
       "       [1094.      ],\n",
       "       [1102.22998 ],\n",
       "       [1109.400024],\n",
       "       [1097.099976],\n",
       "       [1106.300049],\n",
       "       [1102.410034],\n",
       "       [1132.51001 ],\n",
       "       [1126.219971],\n",
       "       [1131.410034],\n",
       "       [1131.829956],\n",
       "       [1137.48999 ],\n",
       "       [1159.849976],\n",
       "       [1177.329956],\n",
       "       [1172.530029],\n",
       "       [1175.079956],\n",
       "       [1176.47998 ],\n",
       "       [1167.829956],\n",
       "       [1170.569946],\n",
       "       [1162.609985],\n",
       "       [1122.      ],\n",
       "       [1090.599976],\n",
       "       [1027.180054],\n",
       "       [1081.540039],\n",
       "       [1055.410034],\n",
       "       [1017.25    ],\n",
       "       [1048.      ],\n",
       "       [1045.      ],\n",
       "       [1048.949951],\n",
       "       [1079.069946],\n",
       "       [1088.410034],\n",
       "       [1090.569946],\n",
       "       [1106.469971],\n",
       "       [1116.189941],\n",
       "       [1112.640015],\n",
       "       [1127.800049],\n",
       "       [1141.23999 ],\n",
       "       [1123.030029],\n",
       "       [1107.869995],\n",
       "       [1053.079956],\n",
       "       [1075.140015],\n",
       "       [1099.219971],\n",
       "       [1089.189941],\n",
       "       [1115.319946],\n",
       "       [1136.      ],\n",
       "       [1163.849976],\n",
       "       [1170.      ],\n",
       "       [1145.209961],\n",
       "       [1149.959961],\n",
       "       [1154.140015],\n",
       "       [1120.01001 ],\n",
       "       [1099.      ],\n",
       "       [1092.73999 ],\n",
       "       [1081.880005],\n",
       "       [1047.030029],\n",
       "       [1046.      ],\n",
       "       [1063.      ],\n",
       "       [ 998.      ],\n",
       "       [1011.630005],\n",
       "       [1022.820007],\n",
       "       [1013.909973],\n",
       "       [ 993.409973],\n",
       "       [1041.329956],\n",
       "       [1020.      ],\n",
       "       [1016.799988],\n",
       "       [1026.439941],\n",
       "       [1027.98999 ],\n",
       "       [1025.040039],\n",
       "       [1040.880005],\n",
       "       [1037.      ],\n",
       "       [1051.369995],\n",
       "       [1077.430054],\n",
       "       [1069.400024],\n",
       "       [1082.      ],\n",
       "       [1077.859985],\n",
       "       [1052.      ],\n",
       "       [1025.52002 ],\n",
       "       [1029.51001 ],\n",
       "       [1046.      ],\n",
       "       [1030.01001 ],\n",
       "       [1013.659973],\n",
       "       [1028.099976],\n",
       "       [1019.      ],\n",
       "       [1016.900024],\n",
       "       [1049.22998 ],\n",
       "       [1058.540039],\n",
       "       [1058.099976],\n",
       "       [1086.030029],\n",
       "       [1093.599976],\n",
       "       [1100.      ],\n",
       "       [1090.      ],\n",
       "       [1077.310059],\n",
       "       [1079.890015],\n",
       "       [1061.859985],\n",
       "       [1074.060059],\n",
       "       [1083.560059],\n",
       "       [1065.130005],\n",
       "       [1079.      ],\n",
       "       [1079.02002 ],\n",
       "       [1064.890015],\n",
       "       [1063.030029],\n",
       "       [1067.560059],\n",
       "       [1099.349976],\n",
       "       [1122.329956],\n",
       "       [1140.98999 ],\n",
       "       [1142.170044],\n",
       "       [1131.319946],\n",
       "       [1118.180054],\n",
       "       [1118.599976],\n",
       "       [1131.069946],\n",
       "       [1141.119995],\n",
       "       [1143.849976],\n",
       "       [1148.859985],\n",
       "       [1143.650024],\n",
       "       [1158.5     ],\n",
       "       [1175.310059],\n",
       "       [1174.849976],\n",
       "       [1159.140015],\n",
       "       [1143.599976],\n",
       "       [1128.      ],\n",
       "       [1121.339966],\n",
       "       [1102.089966],\n",
       "       [1120.      ]])"
      ]
     },
     "execution_count": 21,
     "metadata": {},
     "output_type": "execute_result"
    }
   ],
   "source": [
    "inputs = inputs.reshape(-1, 1)\n",
    "inputs"
   ]
  },
  {
   "cell_type": "code",
   "execution_count": 22,
   "metadata": {},
   "outputs": [
    {
     "data": {
      "text/plain": [
       "(185, 1)"
      ]
     },
     "execution_count": 22,
     "metadata": {},
     "output_type": "execute_result"
    }
   ],
   "source": [
    "inputs = sc.transform(inputs)\n",
    "inputs.shape"
   ]
  },
  {
   "cell_type": "code",
   "execution_count": 23,
   "metadata": {},
   "outputs": [
    {
     "data": {
      "text/plain": [
       "(125, 60)"
      ]
     },
     "execution_count": 23,
     "metadata": {},
     "output_type": "execute_result"
    }
   ],
   "source": [
    "x_test = []\n",
    "for i in range(60,185):\n",
    "    x_test.append(inputs[i-60:i,0])\n",
    "x_test = np.array(x_test)\n",
    "x_test.shape"
   ]
  },
  {
   "cell_type": "code",
   "execution_count": 24,
   "metadata": {},
   "outputs": [
    {
     "data": {
      "text/plain": [
       "(125, 60, 1)"
      ]
     },
     "execution_count": 24,
     "metadata": {},
     "output_type": "execute_result"
    }
   ],
   "source": [
    "x_test = np.reshape(x_test, (x_test.shape[0],x_test.shape[1],1))\n",
    "x_test.shape"
   ]
  },
  {
   "cell_type": "code",
   "execution_count": 25,
   "metadata": {},
   "outputs": [],
   "source": [
    "predicted_price = regressor.predict(x_test)\n",
    "predicted_price = sc.inverse_transform(predicted_price)"
   ]
  },
  {
   "cell_type": "code",
   "execution_count": 26,
   "metadata": {},
   "outputs": [
    {
     "data": {
      "text/plain": [
       "array([[1032.3271 ],\n",
       "       [1031.0194 ],\n",
       "       [1033.1774 ],\n",
       "       [1041.19   ],\n",
       "       [1052.2682 ],\n",
       "       [1063.0182 ],\n",
       "       [1071.4812 ],\n",
       "       [1074.5798 ],\n",
       "       [1074.693  ],\n",
       "       [1073.3435 ],\n",
       "       [1076.4672 ],\n",
       "       [1082.1918 ],\n",
       "       [1088.4098 ],\n",
       "       [1093.3123 ],\n",
       "       [1097.0876 ],\n",
       "       [1103.087  ],\n",
       "       [1112.6841 ],\n",
       "       [1121.7998 ],\n",
       "       [1128.0935 ],\n",
       "       [1131.3793 ],\n",
       "       [1131.27   ],\n",
       "       [1129.9062 ],\n",
       "       [1127.8159 ],\n",
       "       [1120.226  ],\n",
       "       [1105.7471 ],\n",
       "       [1081.4811 ],\n",
       "       [1063.6212 ],\n",
       "       [1054.3081 ],\n",
       "       [1046.3428 ],\n",
       "       [1042.8456 ],\n",
       "       [1043.1045 ],\n",
       "       [1045.3156 ],\n",
       "       [1051.6346 ],\n",
       "       [1060.4417 ],\n",
       "       [1067.9977 ],\n",
       "       [1074.1683 ],\n",
       "       [1079.3955 ],\n",
       "       [1082.2961 ],\n",
       "       [1085.0392 ],\n",
       "       [1089.723  ],\n",
       "       [1092.312  ],\n",
       "       [1089.9984 ],\n",
       "       [1077.095  ],\n",
       "       [1062.9446 ],\n",
       "       [1057.6    ],\n",
       "       [1059.7302 ],\n",
       "       [1068.8927 ],\n",
       "       [1083.047  ],\n",
       "       [1100.4691 ],\n",
       "       [1116.1742 ],\n",
       "       [1122.3557 ],\n",
       "       [1120.8376 ],\n",
       "       [1116.7164 ],\n",
       "       [1108.4471 ],\n",
       "       [1096.2872 ],\n",
       "       [1083.9904 ],\n",
       "       [1073.9563 ],\n",
       "       [1063.0669 ],\n",
       "       [1052.98   ],\n",
       "       [1048.5284 ],\n",
       "       [1040.0464 ],\n",
       "       [1029.8053 ],\n",
       "       [1022.9509 ],\n",
       "       [1019.2396 ],\n",
       "       [1014.3855 ],\n",
       "       [1015.21375],\n",
       "       [1017.6773 ],\n",
       "       [1018.22235],\n",
       "       [1017.706  ],\n",
       "       [1016.95605],\n",
       "       [1015.7046 ],\n",
       "       [1016.4442 ],\n",
       "       [1018.1401 ],\n",
       "       [1021.6905 ],\n",
       "       [1029.7091 ],\n",
       "       [1037.9979 ],\n",
       "       [1045.3274 ],\n",
       "       [1049.7777 ],\n",
       "       [1047.4398 ],\n",
       "       [1037.0265 ],\n",
       "       [1024.6603 ],\n",
       "       [1018.1026 ],\n",
       "       [1016.1071 ],\n",
       "       [1014.1886 ],\n",
       "       [1013.6773 ],\n",
       "       [1013.32355],\n",
       "       [1012.3717 ],\n",
       "       [1015.7969 ],\n",
       "       [1023.71564],\n",
       "       [1032.0918 ],\n",
       "       [1041.8563 ],\n",
       "       [1051.711  ],\n",
       "       [1059.9912 ],\n",
       "       [1063.6675 ],\n",
       "       [1061.4178 ],\n",
       "       [1056.5975 ],\n",
       "       [1049.8495 ],\n",
       "       [1045.5632 ],\n",
       "       [1046.4678 ],\n",
       "       [1048.227  ],\n",
       "       [1051.0464 ],\n",
       "       [1054.2064 ],\n",
       "       [1054.6687 ],\n",
       "       [1052.4574 ],\n",
       "       [1049.9756 ],\n",
       "       [1053.2661 ],\n",
       "       [1064.153  ],\n",
       "       [1079.9468 ],\n",
       "       [1094.2489 ],\n",
       "       [1101.3403 ],\n",
       "       [1099.761  ],\n",
       "       [1093.6967 ],\n",
       "       [1089.6078 ],\n",
       "       [1090.8745 ],\n",
       "       [1096.2317 ],\n",
       "       [1103.2302 ],\n",
       "       [1108.4407 ],\n",
       "       [1113.1311 ],\n",
       "       [1119.6025 ],\n",
       "       [1126.2246 ],\n",
       "       [1128.7476 ],\n",
       "       [1125.3013 ],\n",
       "       [1116.8616 ],\n",
       "       [1107.0017 ],\n",
       "       [1096.7854 ]], dtype=float32)"
      ]
     },
     "execution_count": 26,
     "metadata": {},
     "output_type": "execute_result"
    }
   ],
   "source": [
    "predicted_price"
   ]
  },
  {
   "cell_type": "code",
   "execution_count": 27,
   "metadata": {},
   "outputs": [
    {
     "data": {
      "image/png": "[encoded data removed]",
      "text/plain": [
       "<Figure size 432x288 with 1 Axes>"
      ]
     },
     "metadata": {},
     "output_type": "display_data"
    }
   ],
   "source": [
    "plt.plot(real_stock_price,color = 'red', label = 'Real Price')\n",
    "plt.plot(predicted_price, color = 'blue', label = 'Predicted Price')\n",
    "plt.title('Google Stock Price Prediction')\n",
    "plt.xlabel('Time')\n",
    "plt.ylabel('Google Stock Price')\n",
    "plt.legend()\n",
    "plt.show()"
   ]
  },
  {
   "cell_type": "code",
   "execution_count": null,
   "metadata": {},
   "outputs": [],
   "source": []
  }
 ],
 "metadata": {
  "kernelspec": {
   "display_name": "Python 3",
   "language": "python",
   "name": "python3"
  },
  "language_info": {
   "codemirror_mode": {
    "name": "ipython",
    "version": 3
   },
   "file_extension": ".py",
   "mimetype": "text/x-python",
   "name": "python",
   "nbconvert_exporter": "python",
   "pygments_lexer": "ipython3",
   "version": "3.6.1"
  }
 },
 "nbformat": 4,
 "nbformat_minor": 2
}
